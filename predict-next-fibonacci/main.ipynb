{
 "cells": [
  {
   "cell_type": "code",
   "execution_count": 1,
   "id": "255db3c9",
   "metadata": {},
   "outputs": [],
   "source": [
    "import numpy as np"
   ]
  },
  {
   "cell_type": "code",
   "execution_count": 2,
   "id": "e71dad44",
   "metadata": {},
   "outputs": [],
   "source": [
    "def split_sequence(seq, n_steps):\n",
    "    \n",
    "    x,y = [], []\n",
    "    \n",
    "    for i in range(len(seq)):\n",
    "        last_index = i + n_steps\n",
    "        \n",
    "        if last_index > len(seq) - 1:\n",
    "            break\n",
    "        \n",
    "        seq_x, seq_y = seq[i:last_index], seq[last_index]\n",
    "        \n",
    "        x.append(seq_x)\n",
    "        y.append(seq_y)\n",
    "    \n",
    "    x = np.array(x, dtype=np.float32)\n",
    "    y = np.array(y, dtype=np.float32)\n",
    "    \n",
    "    return x,y"
   ]
  },
  {
   "cell_type": "code",
   "execution_count": 3,
   "id": "09837031",
   "metadata": {},
   "outputs": [],
   "source": [
    "# 13 first fibonacci numbers\n",
    "data = [1,1,2,3,5,8,13,21,34,55,89,144,233]\n",
    "n_steps = 5\n",
    "x, y = split_sequence(data, n_steps)"
   ]
  },
  {
   "cell_type": "code",
   "execution_count": 4,
   "id": "28b1354a",
   "metadata": {},
   "outputs": [],
   "source": [
    "def F(n):\n",
    "    if n == 0: \n",
    "        return 0\n",
    "    elif n == 1: \n",
    "        return 1\n",
    "    else: \n",
    "        return F(n - 1) + F(n - 2)"
   ]
  },
  {
   "cell_type": "code",
   "execution_count": 5,
   "id": "8128cb82",
   "metadata": {},
   "outputs": [
    {
     "name": "stdout",
     "output_type": "stream",
     "text": [
      "[1. 1. 2. 3. 5.] 8.0\n",
      "[1. 2. 3. 5. 8.] 13.0\n",
      "[ 2.  3.  5.  8. 13.] 21.0\n",
      "[ 3.  5.  8. 13. 21.] 34.0\n",
      "[ 5.  8. 13. 21. 34.] 55.0\n",
      "[ 8. 13. 21. 34. 55.] 89.0\n",
      "[13. 21. 34. 55. 89.] 144.0\n",
      "[ 21.  34.  55.  89. 144.] 233.0\n"
     ]
    }
   ],
   "source": [
    "for i in range(len(x)):\n",
    "    print(x[i], y[i])"
   ]
  },
  {
   "cell_type": "code",
   "execution_count": 6,
   "id": "fec51001",
   "metadata": {},
   "outputs": [
    {
     "name": "stdout",
     "output_type": "stream",
     "text": [
      "[[[1.]\n",
      "  [1.]\n",
      "  [2.]\n",
      "  [3.]\n",
      "  [5.]]\n",
      "\n",
      " [[1.]\n",
      "  [2.]\n",
      "  [3.]\n",
      "  [5.]\n",
      "  [8.]]]\n"
     ]
    }
   ],
   "source": [
    "# LSTM need input of the form [batch, timesteps, features]\n",
    "# hence we need to shape the the data x\n",
    "n_features = 1\n",
    "x = x.reshape((x.shape[0], x.shape[1], n_features))\n",
    "print(x[:2])"
   ]
  },
  {
   "cell_type": "code",
   "execution_count": 7,
   "id": "b819e02b",
   "metadata": {},
   "outputs": [
    {
     "name": "stderr",
     "output_type": "stream",
     "text": [
      "2022-01-22 14:14:05.325961: I tensorflow/core/platform/cpu_feature_guard.cc:145] This TensorFlow binary is optimized with Intel(R) MKL-DNN to use the following CPU instructions in performance critical operations:  SSE4.1 SSE4.2 AVX AVX2 FMA\n",
      "To enable them in non-MKL-DNN operations, rebuild TensorFlow with the appropriate compiler flags.\n",
      "2022-01-22 14:14:05.326153: I tensorflow/core/common_runtime/process_util.cc:115] Creating new thread pool with default inter op setting: 4. Tune using inter_op_parallelism_threads for best performance.\n"
     ]
    }
   ],
   "source": [
    "# Create model\n",
    "import tensorflow as tf\n",
    "from tensorflow import keras\n",
    "from tensorflow.keras import layers\n",
    "\n",
    "model = tf.keras.Sequential()\n",
    "model.add(layers.LSTM(50, activation='relu', input_shape=(n_steps, n_features)))\n",
    "model.add(layers.Dense(1))"
   ]
  },
  {
   "cell_type": "code",
   "execution_count": 8,
   "id": "b1ca4cb7",
   "metadata": {},
   "outputs": [
    {
     "data": {
      "text/plain": [
       "[<tensorflow.python.keras.layers.recurrent_v2.LSTM at 0x7ff0bd4d5bd0>,\n",
       " <tensorflow.python.keras.layers.core.Dense at 0x7ff0c4dc1750>]"
      ]
     },
     "execution_count": 8,
     "metadata": {},
     "output_type": "execute_result"
    }
   ],
   "source": [
    "model.layers"
   ]
  },
  {
   "cell_type": "code",
   "execution_count": 9,
   "id": "edfc1e96",
   "metadata": {},
   "outputs": [
    {
     "name": "stdout",
     "output_type": "stream",
     "text": [
      "Model: \"sequential\"\n",
      "_________________________________________________________________\n",
      "Layer (type)                 Output Shape              Param #   \n",
      "=================================================================\n",
      "lstm (LSTM)                  (None, 50)                10400     \n",
      "_________________________________________________________________\n",
      "dense (Dense)                (None, 1)                 51        \n",
      "=================================================================\n",
      "Total params: 10,451\n",
      "Trainable params: 10,451\n",
      "Non-trainable params: 0\n",
      "_________________________________________________________________\n"
     ]
    }
   ],
   "source": [
    "model.summary()"
   ]
  },
  {
   "cell_type": "code",
   "execution_count": 10,
   "id": "c6d31ab4",
   "metadata": {},
   "outputs": [],
   "source": [
    "# Compile the model\n",
    "model.compile(\n",
    "            optimizer=tf.keras.optimizers.Adam(0.01), \n",
    "            loss=tf.keras.losses.MeanSquaredError(), \n",
    "            metrics=['accuracy']\n",
    ")"
   ]
  },
  {
   "cell_type": "code",
   "execution_count": 11,
   "id": "201d867a",
   "metadata": {},
   "outputs": [
    {
     "name": "stdout",
     "output_type": "stream",
     "text": [
      "Train on 8 samples\n",
      "Epoch 1/200\n",
      "8/8 [==============================] - 2s 294ms/sample - loss: 12501.9443 - accuracy: 0.0000e+00\n",
      "Epoch 2/200\n",
      "8/8 [==============================] - 0s 2ms/sample - loss: 11122.3730 - accuracy: 0.0000e+00\n",
      "Epoch 3/200\n",
      "8/8 [==============================] - 0s 2ms/sample - loss: 10193.1270 - accuracy: 0.0000e+00\n",
      "Epoch 4/200\n",
      "8/8 [==============================] - 0s 4ms/sample - loss: 9522.9023 - accuracy: 0.0000e+00\n",
      "Epoch 5/200\n",
      "8/8 [==============================] - 0s 2ms/sample - loss: 8503.4492 - accuracy: 0.0000e+00\n",
      "Epoch 6/200\n",
      "8/8 [==============================] - 0s 2ms/sample - loss: 6581.1357 - accuracy: 0.0000e+00\n",
      "Epoch 7/200\n",
      "8/8 [==============================] - 0s 2ms/sample - loss: 3793.2510 - accuracy: 0.0000e+00\n",
      "Epoch 8/200\n",
      "8/8 [==============================] - 0s 3ms/sample - loss: 1558.7727 - accuracy: 0.0000e+00\n",
      "Epoch 9/200\n",
      "8/8 [==============================] - 0s 2ms/sample - loss: 49.3194 - accuracy: 0.0000e+00\n",
      "Epoch 10/200\n",
      "8/8 [==============================] - 0s 2ms/sample - loss: 952.8853 - accuracy: 0.0000e+00\n",
      "Epoch 11/200\n",
      "8/8 [==============================] - 0s 3ms/sample - loss: 613.3849 - accuracy: 0.0000e+00\n",
      "Epoch 12/200\n",
      "8/8 [==============================] - 0s 3ms/sample - loss: 179.7971 - accuracy: 0.0000e+00\n",
      "Epoch 13/200\n",
      "8/8 [==============================] - 0s 4ms/sample - loss: 105.1761 - accuracy: 0.0000e+00\n",
      "Epoch 14/200\n",
      "8/8 [==============================] - 0s 4ms/sample - loss: 45.9850 - accuracy: 0.0000e+00\n",
      "Epoch 15/200\n",
      "8/8 [==============================] - 0s 3ms/sample - loss: 14.2351 - accuracy: 0.0000e+00\n",
      "Epoch 16/200\n",
      "8/8 [==============================] - 0s 3ms/sample - loss: 17.4145 - accuracy: 0.0000e+00\n",
      "Epoch 17/200\n",
      "8/8 [==============================] - 0s 3ms/sample - loss: 42.8003 - accuracy: 0.0000e+00\n",
      "Epoch 18/200\n",
      "8/8 [==============================] - 0s 3ms/sample - loss: 67.1596 - accuracy: 0.0000e+00\n",
      "Epoch 19/200\n",
      "8/8 [==============================] - 0s 3ms/sample - loss: 74.1350 - accuracy: 0.0000e+00\n",
      "Epoch 20/200\n",
      "8/8 [==============================] - 0s 3ms/sample - loss: 61.9787 - accuracy: 0.0000e+00\n",
      "Epoch 21/200\n",
      "8/8 [==============================] - 0s 3ms/sample - loss: 39.3674 - accuracy: 0.0000e+00\n",
      "Epoch 22/200\n",
      "8/8 [==============================] - 0s 3ms/sample - loss: 18.2850 - accuracy: 0.0000e+00\n",
      "Epoch 23/200\n",
      "8/8 [==============================] - 0s 2ms/sample - loss: 7.7738 - accuracy: 0.0000e+00\n",
      "Epoch 24/200\n",
      "8/8 [==============================] - 0s 2ms/sample - loss: 10.0554 - accuracy: 0.0000e+00\n",
      "Epoch 25/200\n",
      "8/8 [==============================] - 0s 3ms/sample - loss: 20.1870 - accuracy: 0.0000e+00\n",
      "Epoch 26/200\n",
      "8/8 [==============================] - 0s 3ms/sample - loss: 29.6625 - accuracy: 0.0000e+00\n",
      "Epoch 27/200\n",
      "8/8 [==============================] - 0s 3ms/sample - loss: 31.8587 - accuracy: 0.0000e+00\n",
      "Epoch 28/200\n",
      "8/8 [==============================] - 0s 3ms/sample - loss: 25.7019 - accuracy: 0.0000e+00\n",
      "Epoch 29/200\n",
      "8/8 [==============================] - 0s 3ms/sample - loss: 15.2553 - accuracy: 0.0000e+00\n",
      "Epoch 30/200\n",
      "8/8 [==============================] - 0s 3ms/sample - loss: 6.1977 - accuracy: 0.0000e+00\n",
      "Epoch 31/200\n",
      "8/8 [==============================] - 0s 4ms/sample - loss: 2.0638 - accuracy: 0.0000e+00\n",
      "Epoch 32/200\n",
      "8/8 [==============================] - 0s 3ms/sample - loss: 1.4398 - accuracy: 0.0000e+00\n",
      "Epoch 33/200\n",
      "8/8 [==============================] - 0s 3ms/sample - loss: 7.5196 - accuracy: 0.0000e+00\n",
      "Epoch 34/200\n",
      "8/8 [==============================] - 0s 3ms/sample - loss: 5.1667 - accuracy: 0.0000e+00\n",
      "Epoch 35/200\n",
      "8/8 [==============================] - 0s 3ms/sample - loss: 17.3034 - accuracy: 0.0000e+00\n",
      "Epoch 36/200\n",
      "8/8 [==============================] - 0s 3ms/sample - loss: 10.3027 - accuracy: 0.0000e+00\n",
      "Epoch 37/200\n",
      "8/8 [==============================] - 0s 3ms/sample - loss: 0.6078 - accuracy: 0.0000e+00\n",
      "Epoch 38/200\n",
      "8/8 [==============================] - 0s 3ms/sample - loss: 23.0569 - accuracy: 0.0000e+00\n",
      "Epoch 39/200\n",
      "8/8 [==============================] - 0s 2ms/sample - loss: 0.3970 - accuracy: 0.0000e+00\n",
      "Epoch 40/200\n",
      "8/8 [==============================] - 0s 3ms/sample - loss: 11.8052 - accuracy: 0.0000e+00\n",
      "Epoch 41/200\n",
      "8/8 [==============================] - 0s 3ms/sample - loss: 11.1729 - accuracy: 0.0000e+00\n",
      "Epoch 42/200\n",
      "8/8 [==============================] - 0s 3ms/sample - loss: 3.1497 - accuracy: 0.0000e+00\n",
      "Epoch 43/200\n",
      "8/8 [==============================] - 0s 3ms/sample - loss: 1.8170 - accuracy: 0.0000e+00\n",
      "Epoch 44/200\n",
      "8/8 [==============================] - 0s 3ms/sample - loss: 6.1085 - accuracy: 0.0000e+00\n",
      "Epoch 45/200\n",
      "8/8 [==============================] - 0s 3ms/sample - loss: 2.4851 - accuracy: 0.0000e+00\n",
      "Epoch 46/200\n",
      "8/8 [==============================] - 0s 3ms/sample - loss: 0.7977 - accuracy: 0.0000e+00\n",
      "Epoch 47/200\n",
      "8/8 [==============================] - 0s 3ms/sample - loss: 2.4357 - accuracy: 0.0000e+00\n",
      "Epoch 48/200\n",
      "8/8 [==============================] - 0s 2ms/sample - loss: 3.0879 - accuracy: 0.0000e+00\n",
      "Epoch 49/200\n",
      "8/8 [==============================] - 0s 2ms/sample - loss: 1.8212 - accuracy: 0.0000e+00\n",
      "Epoch 50/200\n",
      "8/8 [==============================] - 0s 2ms/sample - loss: 0.3404 - accuracy: 0.0000e+00\n",
      "Epoch 51/200\n",
      "8/8 [==============================] - 0s 3ms/sample - loss: 0.4985 - accuracy: 0.0000e+00\n",
      "Epoch 52/200\n",
      "8/8 [==============================] - 0s 3ms/sample - loss: 1.6109 - accuracy: 0.0000e+00\n",
      "Epoch 53/200\n",
      "8/8 [==============================] - 0s 2ms/sample - loss: 1.3749 - accuracy: 0.0000e+00\n",
      "Epoch 54/200\n",
      "8/8 [==============================] - 0s 2ms/sample - loss: 0.3291 - accuracy: 0.0000e+00\n",
      "Epoch 55/200\n",
      "8/8 [==============================] - 0s 1ms/sample - loss: 0.2629 - accuracy: 0.0000e+00\n",
      "Epoch 56/200\n",
      "8/8 [==============================] - 0s 2ms/sample - loss: 0.9142 - accuracy: 0.0000e+00\n",
      "Epoch 57/200\n",
      "8/8 [==============================] - 0s 4ms/sample - loss: 0.9827 - accuracy: 0.0000e+00\n",
      "Epoch 58/200\n",
      "8/8 [==============================] - 0s 3ms/sample - loss: 0.4567 - accuracy: 0.0000e+00\n",
      "Epoch 59/200\n",
      "8/8 [==============================] - 0s 3ms/sample - loss: 0.1386 - accuracy: 0.0000e+00\n",
      "Epoch 60/200\n",
      "8/8 [==============================] - 0s 4ms/sample - loss: 0.3042 - accuracy: 0.0000e+00\n",
      "Epoch 61/200\n",
      "8/8 [==============================] - 0s 4ms/sample - loss: 0.5309 - accuracy: 0.0000e+00\n",
      "Epoch 62/200\n",
      "8/8 [==============================] - 0s 2ms/sample - loss: 0.4454 - accuracy: 0.0000e+00\n",
      "Epoch 63/200\n",
      "8/8 [==============================] - 0s 2ms/sample - loss: 0.1640 - accuracy: 0.0000e+00\n",
      "Epoch 64/200\n",
      "8/8 [==============================] - 0s 2ms/sample - loss: 0.0579 - accuracy: 0.0000e+00\n",
      "Epoch 65/200\n",
      "8/8 [==============================] - 0s 2ms/sample - loss: 0.2419 - accuracy: 0.0000e+00\n",
      "Epoch 66/200\n",
      "8/8 [==============================] - 0s 2ms/sample - loss: 0.3728 - accuracy: 0.0000e+00\n",
      "Epoch 67/200\n",
      "8/8 [==============================] - 0s 2ms/sample - loss: 0.2067 - accuracy: 0.0000e+00\n",
      "Epoch 68/200\n",
      "8/8 [==============================] - 0s 2ms/sample - loss: 0.0418 - accuracy: 0.0000e+00\n",
      "Epoch 69/200\n",
      "8/8 [==============================] - 0s 2ms/sample - loss: 0.1211 - accuracy: 0.0000e+00\n",
      "Epoch 70/200\n",
      "8/8 [==============================] - 0s 2ms/sample - loss: 0.2534 - accuracy: 0.0000e+00\n",
      "Epoch 71/200\n",
      "8/8 [==============================] - 0s 2ms/sample - loss: 0.2111 - accuracy: 0.0000e+00\n",
      "Epoch 72/200\n",
      "8/8 [==============================] - 0s 2ms/sample - loss: 0.0743 - accuracy: 0.0000e+00\n",
      "Epoch 73/200\n",
      "8/8 [==============================] - 0s 2ms/sample - loss: 0.0677 - accuracy: 0.0000e+00\n",
      "Epoch 74/200\n",
      "8/8 [==============================] - 0s 3ms/sample - loss: 0.1723 - accuracy: 0.0000e+00\n",
      "Epoch 75/200\n",
      "8/8 [==============================] - 0s 3ms/sample - loss: 0.1672 - accuracy: 0.0000e+00\n",
      "Epoch 76/200\n",
      "8/8 [==============================] - 0s 2ms/sample - loss: 0.0658 - accuracy: 0.0000e+00\n",
      "Epoch 77/200\n",
      "8/8 [==============================] - 0s 2ms/sample - loss: 0.0514 - accuracy: 0.0000e+00\n",
      "Epoch 78/200\n",
      "8/8 [==============================] - 0s 2ms/sample - loss: 0.1144 - accuracy: 0.0000e+00\n",
      "Epoch 79/200\n"
     ]
    },
    {
     "name": "stdout",
     "output_type": "stream",
     "text": [
      "8/8 [==============================] - 0s 2ms/sample - loss: 0.1218 - accuracy: 0.0000e+00\n",
      "Epoch 80/200\n",
      "8/8 [==============================] - 0s 2ms/sample - loss: 0.0610 - accuracy: 0.0000e+00\n",
      "Epoch 81/200\n",
      "8/8 [==============================] - 0s 2ms/sample - loss: 0.0347 - accuracy: 0.0000e+00\n",
      "Epoch 82/200\n",
      "8/8 [==============================] - 0s 2ms/sample - loss: 0.0737 - accuracy: 0.0000e+00\n",
      "Epoch 83/200\n",
      "8/8 [==============================] - 0s 2ms/sample - loss: 0.0911 - accuracy: 0.0000e+00\n",
      "Epoch 84/200\n",
      "8/8 [==============================] - 0s 2ms/sample - loss: 0.0542 - accuracy: 0.0000e+00\n",
      "Epoch 85/200\n",
      "8/8 [==============================] - 0s 2ms/sample - loss: 0.0331 - accuracy: 0.0000e+00\n",
      "Epoch 86/200\n",
      "8/8 [==============================] - 0s 1ms/sample - loss: 0.0561 - accuracy: 0.0000e+00\n",
      "Epoch 87/200\n",
      "8/8 [==============================] - 0s 2ms/sample - loss: 0.0722 - accuracy: 0.0000e+00\n",
      "Epoch 88/200\n",
      "8/8 [==============================] - 0s 2ms/sample - loss: 0.0531 - accuracy: 0.0000e+00\n",
      "Epoch 89/200\n",
      "8/8 [==============================] - 0s 2ms/sample - loss: 0.0339 - accuracy: 0.0000e+00\n",
      "Epoch 90/200\n",
      "8/8 [==============================] - 0s 2ms/sample - loss: 0.0444 - accuracy: 0.0000e+00\n",
      "Epoch 91/200\n",
      "8/8 [==============================] - 0s 2ms/sample - loss: 0.0582 - accuracy: 0.0000e+00\n",
      "Epoch 92/200\n",
      "8/8 [==============================] - 0s 2ms/sample - loss: 0.0473 - accuracy: 0.0000e+00\n",
      "Epoch 93/200\n",
      "8/8 [==============================] - 0s 2ms/sample - loss: 0.0322 - accuracy: 0.0000e+00\n",
      "Epoch 94/200\n",
      "8/8 [==============================] - 0s 2ms/sample - loss: 0.0369 - accuracy: 0.0000e+00\n",
      "Epoch 95/200\n",
      "8/8 [==============================] - 0s 2ms/sample - loss: 0.0465 - accuracy: 0.0000e+00\n",
      "Epoch 96/200\n",
      "8/8 [==============================] - 0s 2ms/sample - loss: 0.0407 - accuracy: 0.0000e+00\n",
      "Epoch 97/200\n",
      "8/8 [==============================] - 0s 3ms/sample - loss: 0.0299 - accuracy: 0.0000e+00\n",
      "Epoch 98/200\n",
      "8/8 [==============================] - 0s 2ms/sample - loss: 0.0317 - accuracy: 0.0000e+00\n",
      "Epoch 99/200\n",
      "8/8 [==============================] - 0s 2ms/sample - loss: 0.0388 - accuracy: 0.0000e+00\n",
      "Epoch 100/200\n",
      "8/8 [==============================] - 0s 2ms/sample - loss: 0.0356 - accuracy: 0.0000e+00\n",
      "Epoch 101/200\n",
      "8/8 [==============================] - 0s 2ms/sample - loss: 0.0284 - accuracy: 0.0000e+00\n",
      "Epoch 102/200\n",
      "8/8 [==============================] - 0s 2ms/sample - loss: 0.0298 - accuracy: 0.0000e+00\n",
      "Epoch 103/200\n",
      "8/8 [==============================] - 0s 3ms/sample - loss: 0.0346 - accuracy: 0.0000e+00\n",
      "Epoch 104/200\n",
      "8/8 [==============================] - 0s 2ms/sample - loss: 0.0325 - accuracy: 0.0000e+00\n",
      "Epoch 105/200\n",
      "8/8 [==============================] - 0s 2ms/sample - loss: 0.0276 - accuracy: 0.0000e+00\n",
      "Epoch 106/200\n",
      "8/8 [==============================] - 0s 2ms/sample - loss: 0.0286 - accuracy: 0.0000e+00\n",
      "Epoch 107/200\n",
      "8/8 [==============================] - 0s 2ms/sample - loss: 0.0316 - accuracy: 0.0000e+00\n",
      "Epoch 108/200\n",
      "8/8 [==============================] - 0s 2ms/sample - loss: 0.0297 - accuracy: 0.0000e+00\n",
      "Epoch 109/200\n",
      "8/8 [==============================] - 0s 2ms/sample - loss: 0.0264 - accuracy: 0.0000e+00\n",
      "Epoch 110/200\n",
      "8/8 [==============================] - 0s 2ms/sample - loss: 0.0273 - accuracy: 0.0000e+00\n",
      "Epoch 111/200\n",
      "8/8 [==============================] - 0s 2ms/sample - loss: 0.0290 - accuracy: 0.0000e+00\n",
      "Epoch 112/200\n",
      "8/8 [==============================] - 0s 2ms/sample - loss: 0.0273 - accuracy: 0.0000e+00\n",
      "Epoch 113/200\n",
      "8/8 [==============================] - 0s 1ms/sample - loss: 0.0252 - accuracy: 0.0000e+00\n",
      "Epoch 114/200\n",
      "8/8 [==============================] - 0s 1ms/sample - loss: 0.0260 - accuracy: 0.0000e+00\n",
      "Epoch 115/200\n",
      "8/8 [==============================] - 0s 1ms/sample - loss: 0.0270 - accuracy: 0.0000e+00\n",
      "Epoch 116/200\n",
      "8/8 [==============================] - 0s 1ms/sample - loss: 0.0256 - accuracy: 0.0000e+00\n",
      "Epoch 117/200\n",
      "8/8 [==============================] - 0s 2ms/sample - loss: 0.0244 - accuracy: 0.0000e+00\n",
      "Epoch 118/200\n",
      "8/8 [==============================] - 0s 1ms/sample - loss: 0.0252 - accuracy: 0.0000e+00\n",
      "Epoch 119/200\n",
      "8/8 [==============================] - 0s 1ms/sample - loss: 0.0256 - accuracy: 0.0000e+00\n",
      "Epoch 120/200\n",
      "8/8 [==============================] - 0s 2ms/sample - loss: 0.0244 - accuracy: 0.0000e+00\n",
      "Epoch 121/200\n",
      "8/8 [==============================] - 0s 2ms/sample - loss: 0.0239 - accuracy: 0.0000e+00\n",
      "Epoch 122/200\n",
      "8/8 [==============================] - 0s 2ms/sample - loss: 0.0244 - accuracy: 0.0000e+00\n",
      "Epoch 123/200\n",
      "8/8 [==============================] - 0s 1ms/sample - loss: 0.0244 - accuracy: 0.0000e+00\n",
      "Epoch 124/200\n",
      "8/8 [==============================] - 0s 2ms/sample - loss: 0.0235 - accuracy: 0.0000e+00\n",
      "Epoch 125/200\n",
      "8/8 [==============================] - 0s 2ms/sample - loss: 0.0233 - accuracy: 0.0000e+00\n",
      "Epoch 126/200\n",
      "8/8 [==============================] - 0s 1ms/sample - loss: 0.0236 - accuracy: 0.0000e+00\n",
      "Epoch 127/200\n",
      "8/8 [==============================] - 0s 2ms/sample - loss: 0.0233 - accuracy: 0.0000e+00\n",
      "Epoch 128/200\n",
      "8/8 [==============================] - 0s 1ms/sample - loss: 0.0227 - accuracy: 0.0000e+00\n",
      "Epoch 129/200\n",
      "8/8 [==============================] - 0s 1ms/sample - loss: 0.0227 - accuracy: 0.0000e+00\n",
      "Epoch 130/200\n",
      "8/8 [==============================] - 0s 1ms/sample - loss: 0.0228 - accuracy: 0.0000e+00\n",
      "Epoch 131/200\n",
      "8/8 [==============================] - 0s 1ms/sample - loss: 0.0225 - accuracy: 0.0000e+00\n",
      "Epoch 132/200\n",
      "8/8 [==============================] - 0s 2ms/sample - loss: 0.0221 - accuracy: 0.0000e+00\n",
      "Epoch 133/200\n",
      "8/8 [==============================] - 0s 2ms/sample - loss: 0.0222 - accuracy: 0.0000e+00\n",
      "Epoch 134/200\n",
      "8/8 [==============================] - 0s 1ms/sample - loss: 0.0222 - accuracy: 0.0000e+00\n",
      "Epoch 135/200\n",
      "8/8 [==============================] - 0s 2ms/sample - loss: 0.0219 - accuracy: 0.0000e+00\n",
      "Epoch 136/200\n",
      "8/8 [==============================] - 0s 1ms/sample - loss: 0.0217 - accuracy: 0.0000e+00\n",
      "Epoch 137/200\n",
      "8/8 [==============================] - 0s 2ms/sample - loss: 0.0217 - accuracy: 0.0000e+00\n",
      "Epoch 138/200\n",
      "8/8 [==============================] - 0s 1ms/sample - loss: 0.0216 - accuracy: 0.0000e+00\n",
      "Epoch 139/200\n",
      "8/8 [==============================] - 0s 1ms/sample - loss: 0.0213 - accuracy: 0.0000e+00\n",
      "Epoch 140/200\n",
      "8/8 [==============================] - 0s 1ms/sample - loss: 0.0213 - accuracy: 0.0000e+00\n",
      "Epoch 141/200\n",
      "8/8 [==============================] - 0s 1ms/sample - loss: 0.0213 - accuracy: 0.0000e+00\n",
      "Epoch 142/200\n",
      "8/8 [==============================] - 0s 1ms/sample - loss: 0.0211 - accuracy: 0.0000e+00\n",
      "Epoch 143/200\n",
      "8/8 [==============================] - 0s 1ms/sample - loss: 0.0209 - accuracy: 0.0000e+00\n",
      "Epoch 144/200\n",
      "8/8 [==============================] - 0s 1ms/sample - loss: 0.0209 - accuracy: 0.0000e+00\n",
      "Epoch 145/200\n",
      "8/8 [==============================] - 0s 2ms/sample - loss: 0.0208 - accuracy: 0.0000e+00\n",
      "Epoch 146/200\n",
      "8/8 [==============================] - 0s 2ms/sample - loss: 0.0206 - accuracy: 0.0000e+00\n",
      "Epoch 147/200\n",
      "8/8 [==============================] - 0s 2ms/sample - loss: 0.0206 - accuracy: 0.0000e+00\n",
      "Epoch 148/200\n",
      "8/8 [==============================] - 0s 1ms/sample - loss: 0.0205 - accuracy: 0.0000e+00\n",
      "Epoch 149/200\n",
      "8/8 [==============================] - 0s 1ms/sample - loss: 0.0204 - accuracy: 0.0000e+00\n",
      "Epoch 150/200\n",
      "8/8 [==============================] - 0s 2ms/sample - loss: 0.0203 - accuracy: 0.0000e+00\n",
      "Epoch 151/200\n",
      "8/8 [==============================] - 0s 1ms/sample - loss: 0.0203 - accuracy: 0.0000e+00\n",
      "Epoch 152/200\n",
      "8/8 [==============================] - 0s 2ms/sample - loss: 0.0202 - accuracy: 0.0000e+00\n",
      "Epoch 153/200\n",
      "8/8 [==============================] - 0s 1ms/sample - loss: 0.0201 - accuracy: 0.0000e+00\n",
      "Epoch 154/200\n",
      "8/8 [==============================] - 0s 2ms/sample - loss: 0.0200 - accuracy: 0.0000e+00\n",
      "Epoch 155/200\n",
      "8/8 [==============================] - 0s 2ms/sample - loss: 0.0200 - accuracy: 0.0000e+00\n",
      "Epoch 156/200\n",
      "8/8 [==============================] - 0s 1ms/sample - loss: 0.0199 - accuracy: 0.0000e+00\n",
      "Epoch 157/200\n",
      "8/8 [==============================] - 0s 1ms/sample - loss: 0.0198 - accuracy: 0.0000e+00\n"
     ]
    },
    {
     "name": "stdout",
     "output_type": "stream",
     "text": [
      "Epoch 158/200\n",
      "8/8 [==============================] - 0s 1ms/sample - loss: 0.0198 - accuracy: 0.0000e+00\n",
      "Epoch 159/200\n",
      "8/8 [==============================] - 0s 2ms/sample - loss: 0.0197 - accuracy: 0.0000e+00\n",
      "Epoch 160/200\n",
      "8/8 [==============================] - 0s 1ms/sample - loss: 0.0197 - accuracy: 0.0000e+00\n",
      "Epoch 161/200\n",
      "8/8 [==============================] - 0s 2ms/sample - loss: 0.0196 - accuracy: 0.0000e+00\n",
      "Epoch 162/200\n",
      "8/8 [==============================] - 0s 1ms/sample - loss: 0.0196 - accuracy: 0.0000e+00\n",
      "Epoch 163/200\n",
      "8/8 [==============================] - 0s 2ms/sample - loss: 0.0195 - accuracy: 0.0000e+00\n",
      "Epoch 164/200\n",
      "8/8 [==============================] - 0s 2ms/sample - loss: 0.0195 - accuracy: 0.0000e+00\n",
      "Epoch 165/200\n",
      "8/8 [==============================] - 0s 2ms/sample - loss: 0.0194 - accuracy: 0.0000e+00\n",
      "Epoch 166/200\n",
      "8/8 [==============================] - 0s 2ms/sample - loss: 0.0194 - accuracy: 0.0000e+00\n",
      "Epoch 167/200\n",
      "8/8 [==============================] - 0s 1ms/sample - loss: 0.0193 - accuracy: 0.0000e+00\n",
      "Epoch 168/200\n",
      "8/8 [==============================] - 0s 2ms/sample - loss: 0.0193 - accuracy: 0.0000e+00\n",
      "Epoch 169/200\n",
      "8/8 [==============================] - 0s 3ms/sample - loss: 0.0193 - accuracy: 0.0000e+00\n",
      "Epoch 170/200\n",
      "8/8 [==============================] - 0s 2ms/sample - loss: 0.0192 - accuracy: 0.0000e+00\n",
      "Epoch 171/200\n",
      "8/8 [==============================] - 0s 2ms/sample - loss: 0.0192 - accuracy: 0.0000e+00\n",
      "Epoch 172/200\n",
      "8/8 [==============================] - 0s 2ms/sample - loss: 0.0192 - accuracy: 0.0000e+00\n",
      "Epoch 173/200\n",
      "8/8 [==============================] - 0s 2ms/sample - loss: 0.0191 - accuracy: 0.0000e+00\n",
      "Epoch 174/200\n",
      "8/8 [==============================] - 0s 2ms/sample - loss: 0.0191 - accuracy: 0.0000e+00\n",
      "Epoch 175/200\n",
      "8/8 [==============================] - 0s 3ms/sample - loss: 0.0191 - accuracy: 0.0000e+00\n",
      "Epoch 176/200\n",
      "8/8 [==============================] - 0s 3ms/sample - loss: 0.0191 - accuracy: 0.0000e+00\n",
      "Epoch 177/200\n",
      "8/8 [==============================] - 0s 2ms/sample - loss: 0.0190 - accuracy: 0.0000e+00\n",
      "Epoch 178/200\n",
      "8/8 [==============================] - 0s 2ms/sample - loss: 0.0190 - accuracy: 0.0000e+00\n",
      "Epoch 179/200\n",
      "8/8 [==============================] - 0s 2ms/sample - loss: 0.0190 - accuracy: 0.0000e+00\n",
      "Epoch 180/200\n",
      "8/8 [==============================] - 0s 2ms/sample - loss: 0.0189 - accuracy: 0.0000e+00\n",
      "Epoch 181/200\n",
      "8/8 [==============================] - 0s 2ms/sample - loss: 0.0189 - accuracy: 0.0000e+00\n",
      "Epoch 182/200\n",
      "8/8 [==============================] - 0s 2ms/sample - loss: 0.0189 - accuracy: 0.0000e+00\n",
      "Epoch 183/200\n",
      "8/8 [==============================] - 0s 2ms/sample - loss: 0.0189 - accuracy: 0.0000e+00\n",
      "Epoch 184/200\n",
      "8/8 [==============================] - 0s 2ms/sample - loss: 0.0189 - accuracy: 0.0000e+00\n",
      "Epoch 185/200\n",
      "8/8 [==============================] - 0s 2ms/sample - loss: 0.0188 - accuracy: 0.0000e+00\n",
      "Epoch 186/200\n",
      "8/8 [==============================] - 0s 2ms/sample - loss: 0.0188 - accuracy: 0.0000e+00\n",
      "Epoch 187/200\n",
      "8/8 [==============================] - 0s 2ms/sample - loss: 0.0188 - accuracy: 0.0000e+00\n",
      "Epoch 188/200\n",
      "8/8 [==============================] - 0s 2ms/sample - loss: 0.0188 - accuracy: 0.0000e+00\n",
      "Epoch 189/200\n",
      "8/8 [==============================] - 0s 2ms/sample - loss: 0.0188 - accuracy: 0.0000e+00\n",
      "Epoch 190/200\n",
      "8/8 [==============================] - 0s 2ms/sample - loss: 0.0188 - accuracy: 0.0000e+00\n",
      "Epoch 191/200\n",
      "8/8 [==============================] - 0s 2ms/sample - loss: 0.0187 - accuracy: 0.0000e+00\n",
      "Epoch 192/200\n",
      "8/8 [==============================] - 0s 2ms/sample - loss: 0.0187 - accuracy: 0.0000e+00\n",
      "Epoch 193/200\n",
      "8/8 [==============================] - 0s 2ms/sample - loss: 0.0187 - accuracy: 0.0000e+00\n",
      "Epoch 194/200\n",
      "8/8 [==============================] - 0s 2ms/sample - loss: 0.0187 - accuracy: 0.0000e+00\n",
      "Epoch 195/200\n",
      "8/8 [==============================] - 0s 1ms/sample - loss: 0.0187 - accuracy: 0.0000e+00\n",
      "Epoch 196/200\n",
      "8/8 [==============================] - 0s 1ms/sample - loss: 0.0187 - accuracy: 0.0000e+00\n",
      "Epoch 197/200\n",
      "8/8 [==============================] - 0s 2ms/sample - loss: 0.0187 - accuracy: 0.0000e+00\n",
      "Epoch 198/200\n",
      "8/8 [==============================] - 0s 3ms/sample - loss: 0.0187 - accuracy: 0.0000e+00\n",
      "Epoch 199/200\n",
      "8/8 [==============================] - 0s 3ms/sample - loss: 0.0186 - accuracy: 0.0000e+00\n",
      "Epoch 200/200\n",
      "8/8 [==============================] - 0s 4ms/sample - loss: 0.0186 - accuracy: 0.0000e+00\n"
     ]
    },
    {
     "data": {
      "text/plain": [
       "<tensorflow.python.keras.callbacks.History at 0x7ff0c560f510>"
      ]
     },
     "execution_count": 11,
     "metadata": {},
     "output_type": "execute_result"
    }
   ],
   "source": [
    "# Train the model\n",
    "model.fit(x, y, epochs=200, verbose=1)"
   ]
  },
  {
   "cell_type": "code",
   "execution_count": 12,
   "id": "47fa322c",
   "metadata": {},
   "outputs": [
    {
     "data": {
      "text/plain": [
       "array([[[ 89.],\n",
       "        [144.],\n",
       "        [233.],\n",
       "        [377.],\n",
       "        [610.]]], dtype=float32)"
      ]
     },
     "execution_count": 12,
     "metadata": {},
     "output_type": "execute_result"
    }
   ],
   "source": [
    "# Predictions\n",
    "test_data = np.array([89,144,233,377,610], dtype=np.float32)\n",
    "test_data = test_data.reshape((1, n_steps, n_features))\n",
    "test_data"
   ]
  },
  {
   "cell_type": "code",
   "execution_count": 15,
   "id": "0d1cf327",
   "metadata": {},
   "outputs": [
    {
     "name": "stdout",
     "output_type": "stream",
     "text": [
      "1/1 [==============================] - 0s 5ms/sample\n",
      "[[988.829]]\n",
      "988\n"
     ]
    }
   ],
   "source": [
    "# Predicting the 16th number\n",
    "predict_next_fib = model.predict(test_data, verbose=1)\n",
    "print(predict_next_fib)\n",
    "\n",
    "converted = [[int(num) for num in sub] for sub in predict_next_fib]\n",
    "\n",
    "flat_list = [item for sublist in converted for item in sublist]\n",
    "\n",
    "strings = [str(integer) for integer in flat_list]\n",
    "a_string = \"\".join(strings)\n",
    "predicted_fib = int(a_string)\n",
    "\n",
    "print(predicted_fib)"
   ]
  },
  {
   "cell_type": "code",
   "execution_count": 16,
   "id": "c57ab176",
   "metadata": {},
   "outputs": [
    {
     "data": {
      "text/plain": [
       "987"
      ]
     },
     "execution_count": 16,
     "metadata": {},
     "output_type": "execute_result"
    }
   ],
   "source": [
    "# The correct 16th fibonacci number\n",
    "F(16)"
   ]
  },
  {
   "cell_type": "code",
   "execution_count": 19,
   "id": "1ab56a3a",
   "metadata": {},
   "outputs": [
    {
     "name": "stdout",
     "output_type": "stream",
     "text": [
      "Difference is 1 integer\n"
     ]
    }
   ],
   "source": [
    "# The difference from the predicted fibonacci number and the correct\n",
    "print(\"Difference is\", abs(predicted_fib - F(16)))"
   ]
  },
  {
   "cell_type": "code",
   "execution_count": 23,
   "id": "18f70b65",
   "metadata": {},
   "outputs": [
    {
     "data": {
      "text/plain": [
       "array([[[ 377.],\n",
       "        [ 610.],\n",
       "        [ 987.],\n",
       "        [1597.],\n",
       "        [2584.]]], dtype=float32)"
      ]
     },
     "execution_count": 23,
     "metadata": {},
     "output_type": "execute_result"
    }
   ],
   "source": [
    "test_data_1 = np.array([377,610,987,1597,2584], dtype=np.float32)\n",
    "test_data_1 = test_data_1.reshape((1, n_steps, n_features))\n",
    "test_data_1"
   ]
  },
  {
   "cell_type": "code",
   "execution_count": 28,
   "id": "9486d180",
   "metadata": {},
   "outputs": [
    {
     "name": "stdout",
     "output_type": "stream",
     "text": [
      "1/1 [==============================] - 0s 5ms/sample\n",
      "[[4206.6167]]\n",
      "4206\n"
     ]
    }
   ],
   "source": [
    "# Predicting the 19th number\n",
    "predict_next_fib_1 = model.predict(test_data_1, verbose=1)\n",
    "print(predict_next_fib_1)\n",
    "\n",
    "converted_1 = [[int(num) for num in sub] for sub in predict_next_fib_1]\n",
    "\n",
    "flat_list_1 = [item for sublist in converted_1 for item in sublist]\n",
    "\n",
    "strings_1 = [str(integer) for integer in flat_list_1]\n",
    "a_string_1 = \"\".join(strings_1)\n",
    "predicted_fib_1 = int(a_string_1)\n",
    "\n",
    "print(predicted_fib_1)"
   ]
  },
  {
   "cell_type": "code",
   "execution_count": 27,
   "id": "5fbb0898",
   "metadata": {},
   "outputs": [
    {
     "data": {
      "text/plain": [
       "4181"
      ]
     },
     "execution_count": 27,
     "metadata": {},
     "output_type": "execute_result"
    }
   ],
   "source": [
    "# The correct 19th fibonacci number\n",
    "F(19)"
   ]
  },
  {
   "cell_type": "code",
   "execution_count": 30,
   "id": "d70fa676",
   "metadata": {},
   "outputs": [
    {
     "name": "stdout",
     "output_type": "stream",
     "text": [
      "Difference is 25\n"
     ]
    }
   ],
   "source": [
    "# The difference from the predicted fibonacci number and the correct\n",
    "print(\"Difference is\", abs(predicted_fib_1 - F(19)))"
   ]
  },
  {
   "cell_type": "code",
   "execution_count": null,
   "id": "fba1b815",
   "metadata": {},
   "outputs": [],
   "source": []
  }
 ],
 "metadata": {
  "kernelspec": {
   "display_name": "Python 3 (ipykernel)",
   "language": "python",
   "name": "python3"
  },
  "language_info": {
   "codemirror_mode": {
    "name": "ipython",
    "version": 3
   },
   "file_extension": ".py",
   "mimetype": "text/x-python",
   "name": "python",
   "nbconvert_exporter": "python",
   "pygments_lexer": "ipython3",
   "version": "3.7.11"
  }
 },
 "nbformat": 4,
 "nbformat_minor": 5
}
